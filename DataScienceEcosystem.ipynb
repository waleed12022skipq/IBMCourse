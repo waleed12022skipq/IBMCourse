{
 "cells": [
  {
   "cell_type": "markdown",
   "id": "6d4f3e41-2fdf-42b0-b7c6-232ae6fc39f2",
   "metadata": {},
   "source": [
    "# Data Science Tools and Ecosystem"
   ]
  },
  {
   "cell_type": "markdown",
   "id": "0000a5ef-0d90-42a9-9583-c58947a94f5e",
   "metadata": {},
   "source": [
    "In this notebook, Data Science Tools and Ecosystem are summarized."
   ]
  },
  {
   "cell_type": "code",
   "execution_count": null,
   "id": "97dfcdef-5052-45b1-ac5c-9508cc9d6821",
   "metadata": {},
   "outputs": [],
   "source": []
  },
  {
   "cell_type": "markdown",
   "id": "027cede1-9d56-49b9-bf86-4cba804e2c32",
   "metadata": {},
   "source": [
    "**Objectives:**\n",
    "- Covered R Studio\n",
    "- Worked on Jupyter Notebooks\n",
    "- Github was discussed\n",
    "- Markdown format was practiced\n",
    "- Anaconda was introduced"
   ]
  },
  {
   "cell_type": "markdown",
   "id": "50cd82ab-74bc-419e-ae2e-4b33bf12977d",
   "metadata": {},
   "source": [
    "Some of the popular languages that Data Scientists use are:\n",
    "1. Python\n",
    "2. C\n",
    "3. C++"
   ]
  },
  {
   "cell_type": "markdown",
   "id": "d44638a1-54a8-4a6c-aec2-8fc66997bb19",
   "metadata": {},
   "source": [
    "Some of the commonly used libraries used by Data Scientists include:\n",
    "1. Numpy\n",
    "2. Pandas\n",
    "3. Scikit-Learn"
   ]
  },
  {
   "cell_type": "markdown",
   "id": "ce34ccc0-0c97-4f6b-baf0-58492150ead0",
   "metadata": {
    "tags": []
   },
   "source": [
    "|Data Science Tools|\n",
    "|------------------|\n",
    "|RStudio|\n",
    "|Apache Spark|\n",
    "|Spyder|"
   ]
  },
  {
   "cell_type": "markdown",
   "id": "46db3fd0-ac0c-421f-a919-3fb123d0fb4d",
   "metadata": {},
   "source": [
    "### Below are a few examples of evaluating arithmetic expressions in Python:"
   ]
  },
  {
   "cell_type": "code",
   "execution_count": 2,
   "id": "093a5e18-6fe6-4588-a08b-0cb3620c459a",
   "metadata": {
    "tags": []
   },
   "outputs": [
    {
     "data": {
      "text/plain": [
       "17"
      ]
     },
     "execution_count": 2,
     "metadata": {},
     "output_type": "execute_result"
    }
   ],
   "source": [
    "#This a simple arithmetic expression to mutiply then add integers\n",
    "(3*4)+5"
   ]
  },
  {
   "cell_type": "code",
   "execution_count": 3,
   "id": "b8674ddb-41b2-4fee-9f3f-ac7f71f99c87",
   "metadata": {
    "tags": []
   },
   "outputs": [
    {
     "data": {
      "text/plain": [
       "3.3333333333333335"
      ]
     },
     "execution_count": 3,
     "metadata": {},
     "output_type": "execute_result"
    }
   ],
   "source": [
    "#This will convert 200 minutes to hours by diving by 60\n",
    "200/60"
   ]
  },
  {
   "cell_type": "markdown",
   "id": "b106c706-d60b-4243-89f7-593061ca3e7d",
   "metadata": {},
   "source": [
    "## Author\n",
    "My Name"
   ]
  },
  {
   "cell_type": "code",
   "execution_count": null,
   "id": "7820ee53-aafa-4b60-b88d-6572f0387f08",
   "metadata": {},
   "outputs": [],
   "source": []
  },
  {
   "cell_type": "code",
   "execution_count": null,
   "id": "136723e2-0260-4f9b-bf2d-29d495cd880c",
   "metadata": {},
   "outputs": [],
   "source": []
  },
  {
   "cell_type": "code",
   "execution_count": null,
   "id": "75341aaa-a6f2-4336-b0c8-2e77c0c0164a",
   "metadata": {},
   "outputs": [],
   "source": []
  },
  {
   "cell_type": "code",
   "execution_count": null,
   "id": "0688ba70-ad85-4a15-952f-581004006cb3",
   "metadata": {},
   "outputs": [],
   "source": []
  },
  {
   "cell_type": "code",
   "execution_count": null,
   "id": "e3b56d11-9476-4103-a216-165e400aa2ae",
   "metadata": {},
   "outputs": [],
   "source": []
  },
  {
   "cell_type": "code",
   "execution_count": null,
   "id": "44252af7-c508-4879-8ae8-299db13e865f",
   "metadata": {},
   "outputs": [],
   "source": []
  },
  {
   "cell_type": "code",
   "execution_count": null,
   "id": "ba7516bb-dd3f-42a5-a4d3-6ec62221ad19",
   "metadata": {},
   "outputs": [],
   "source": []
  },
  {
   "cell_type": "code",
   "execution_count": null,
   "id": "0b1440b7-1c7d-477d-8700-beae37fae3a4",
   "metadata": {},
   "outputs": [],
   "source": []
  }
 ],
 "metadata": {
  "kernelspec": {
   "display_name": "Python",
   "language": "python",
   "name": "conda-env-python-py"
  },
  "language_info": {
   "codemirror_mode": {
    "name": "ipython",
    "version": 3
   },
   "file_extension": ".py",
   "mimetype": "text/x-python",
   "name": "python",
   "nbconvert_exporter": "python",
   "pygments_lexer": "ipython3",
   "version": "3.7.12"
  }
 },
 "nbformat": 4,
 "nbformat_minor": 5
}
